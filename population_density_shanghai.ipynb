{
 "cells": [
  {
   "cell_type": "code",
   "execution_count": 137,
   "id": "a030a018",
   "metadata": {},
   "outputs": [],
   "source": [
    "import json\n",
    "import requests\n",
    "from pandas import Series, DataFrame\n",
    "'''\n",
    "打开“curl 转 python requests网站”：\n",
    "https://curl.trillworks.com/\n",
    "，将curl在线转化为requests请求。\n",
    "'''\n",
    "cookies = {\n",
    "    'RK': 'tSYUf7anb4',\n",
    "    'ptcz': 'e1252dbf3827c4f65dd2bfd6754ca926a5eb24cac8bb7f6fbfca73b1138840c8',\n",
    "    'pgv_pvid': '7787848005',\n",
    "    'tvfe_boss_uuid': 'bc0350c1f5a2c6e9',\n",
    "    'pac_uid': '0_ba6e5caf5ee56',\n",
    "    'pgv_pvi': '3332783104',\n",
    "    'iip': '0',\n",
    "}\n",
    "\n",
    "headers = {\n",
    "    'Connection': 'keep-alive',\n",
    "    'sec-ch-ua': '\"Chromium\";v=\"94\", \"Google Chrome\";v=\"94\", \";Not A Brand\";v=\"99\"',\n",
    "    'sec-ch-ua-mobile': '?1',\n",
    "    'User-Agent': 'Mozilla/5.0 (Linux; Android 6.0; Nexus 5 Build/MRA58N) AppleWebKit/537.36 (KHTML, like Gecko) Chrome/94.0.4606.61 Mobile Safari/537.36',\n",
    "    'sec-ch-ua-platform': '\"Android\"',\n",
    "    'Content-Type': 'text/plain;charset=UTF-8',\n",
    "    'Accept': '*/*',\n",
    "    'Origin': 'https://xingyun.map.qq.com',\n",
    "    'Sec-Fetch-Site': 'same-origin',\n",
    "    'Sec-Fetch-Mode': 'cors',\n",
    "    'Sec-Fetch-Dest': 'empty',\n",
    "    'Referer': 'https://xingyun.map.qq.com/',\n",
    "    'Accept-Language': 'zh-CN,zh;q=0.9',\n",
    "}\n",
    "\n",
    "data = '{\"count\":4,\"rank\":0}'\n",
    "\n",
    "response = requests.post('https://xingyun.map.qq.com/api/getXingyunPoints', headers=headers, cookies=cookies, data=data)\n",
    "\n",
    "data = response.text\n",
    "data_sh = []\n",
    "dict_data = json.loads(data)\n",
    "time = dict_data['time']\n",
    "time = time.replace(':','_')\n",
    "locs = dict_data['locs'].split(',')\n",
    "for i in range(len(locs)//3):\n",
    "    lat = int(locs[0 + 3*i])#上海的经纬度是东经(longitude)120°52′-122°12′，北纬(latidude)30°40′-31°53′之间\n",
    "    lon = int(locs[1 + 3*i])\n",
    "    count = int(locs[2 + 3*i])\n",
    "    if(3040 < lat < 3153 and 12052 < lon < 12212):\n",
    "        data_sh.append([lon/100, lat/100, count])\n",
    "        \n",
    "col = ['经度', '纬度', '人数']\n",
    "res = DataFrame(data_sh, columns=col)\n",
    "\n",
    "res.to_csv(r'.\\{}.csv'.format(time.replace('-','_')))"
   ]
  },
  {
   "cell_type": "code",
   "execution_count": null,
   "id": "e10f6ba4",
   "metadata": {},
   "outputs": [],
   "source": []
  }
 ],
 "metadata": {
  "kernelspec": {
   "display_name": "Python 3",
   "language": "python",
   "name": "python3"
  },
  "language_info": {
   "codemirror_mode": {
    "name": "ipython",
    "version": 3
   },
   "file_extension": ".py",
   "mimetype": "text/x-python",
   "name": "python",
   "nbconvert_exporter": "python",
   "pygments_lexer": "ipython3",
   "version": "3.8.8"
  }
 },
 "nbformat": 4,
 "nbformat_minor": 5
}
